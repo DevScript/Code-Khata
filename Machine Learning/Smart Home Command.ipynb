{
 "cells": [
  {
   "cell_type": "markdown",
   "id": "3f06f5f0",
   "metadata": {},
   "source": [
    "## Importing Libraries"
   ]
  },
  {
   "cell_type": "code",
   "execution_count": 1,
   "id": "5735b70c",
   "metadata": {},
   "outputs": [],
   "source": [
    "import numpy as np\n",
    "import pandas as pd\n",
    "import seaborn as sns\n",
    "import matplotlib.pyplot as plt\n",
    "%matplotlib inline"
   ]
  },
  {
   "cell_type": "code",
   "execution_count": 55,
   "id": "e98a466e",
   "metadata": {},
   "outputs": [],
   "source": [
    "df = pd.read_csv('Alexa_Command.csv')"
   ]
  },
  {
   "cell_type": "markdown",
   "id": "1c3f8f05",
   "metadata": {},
   "source": [
    "## Displaying 25 Sample Data "
   ]
  },
  {
   "cell_type": "code",
   "execution_count": 3,
   "id": "0b198898",
   "metadata": {},
   "outputs": [
    {
     "data": {
      "text/html": [
       "<div>\n",
       "<style scoped>\n",
       "    .dataframe tbody tr th:only-of-type {\n",
       "        vertical-align: middle;\n",
       "    }\n",
       "\n",
       "    .dataframe tbody tr th {\n",
       "        vertical-align: top;\n",
       "    }\n",
       "\n",
       "    .dataframe thead th {\n",
       "        text-align: right;\n",
       "    }\n",
       "</style>\n",
       "<table border=\"1\" class=\"dataframe\">\n",
       "  <thead>\n",
       "    <tr style=\"text-align: right;\">\n",
       "      <th></th>\n",
       "      <th>Number</th>\n",
       "      <th>Category</th>\n",
       "      <th>Action_needed</th>\n",
       "      <th>Question</th>\n",
       "      <th>Subcategory</th>\n",
       "      <th>Action</th>\n",
       "      <th>Time</th>\n",
       "      <th>Sentence</th>\n",
       "    </tr>\n",
       "  </thead>\n",
       "  <tbody>\n",
       "    <tr>\n",
       "      <th>428</th>\n",
       "      <td>429</td>\n",
       "      <td>weather</td>\n",
       "      <td>1</td>\n",
       "      <td>1</td>\n",
       "      <td>myplace</td>\n",
       "      <td>none</td>\n",
       "      <td>minute</td>\n",
       "      <td>Am I going to get wet if I go outside in a few...</td>\n",
       "    </tr>\n",
       "    <tr>\n",
       "      <th>527</th>\n",
       "      <td>528</td>\n",
       "      <td>heating</td>\n",
       "      <td>1</td>\n",
       "      <td>1</td>\n",
       "      <td>livingroom</td>\n",
       "      <td>on</td>\n",
       "      <td>minute</td>\n",
       "      <td>Can you turn on the heating in the living room...</td>\n",
       "    </tr>\n",
       "    <tr>\n",
       "      <th>546</th>\n",
       "      <td>547</td>\n",
       "      <td>shutters</td>\n",
       "      <td>1</td>\n",
       "      <td>0</td>\n",
       "      <td>cellar</td>\n",
       "      <td>up</td>\n",
       "      <td>now</td>\n",
       "      <td>Raise the shutters in the cellar.</td>\n",
       "    </tr>\n",
       "    <tr>\n",
       "      <th>187</th>\n",
       "      <td>188</td>\n",
       "      <td>direction</td>\n",
       "      <td>1</td>\n",
       "      <td>1</td>\n",
       "      <td>home</td>\n",
       "      <td>none</td>\n",
       "      <td>now</td>\n",
       "      <td>How long before I will be home?</td>\n",
       "    </tr>\n",
       "    <tr>\n",
       "      <th>283</th>\n",
       "      <td>284</td>\n",
       "      <td>information</td>\n",
       "      <td>1</td>\n",
       "      <td>0</td>\n",
       "      <td>toilet</td>\n",
       "      <td>none</td>\n",
       "      <td>minute</td>\n",
       "      <td>I want info from the toilet in 8 minutes.</td>\n",
       "    </tr>\n",
       "    <tr>\n",
       "      <th>193</th>\n",
       "      <td>194</td>\n",
       "      <td>direction</td>\n",
       "      <td>1</td>\n",
       "      <td>1</td>\n",
       "      <td>myplace</td>\n",
       "      <td>none</td>\n",
       "      <td>now</td>\n",
       "      <td>Where is the nearest bus stop?</td>\n",
       "    </tr>\n",
       "    <tr>\n",
       "      <th>244</th>\n",
       "      <td>245</td>\n",
       "      <td>information</td>\n",
       "      <td>1</td>\n",
       "      <td>1</td>\n",
       "      <td>none</td>\n",
       "      <td>none</td>\n",
       "      <td>now</td>\n",
       "      <td>What is the temperature in the room?</td>\n",
       "    </tr>\n",
       "    <tr>\n",
       "      <th>210</th>\n",
       "      <td>211</td>\n",
       "      <td>direction</td>\n",
       "      <td>1</td>\n",
       "      <td>1</td>\n",
       "      <td>myplace</td>\n",
       "      <td>none</td>\n",
       "      <td>now</td>\n",
       "      <td>Should I use the public transport now?</td>\n",
       "    </tr>\n",
       "    <tr>\n",
       "      <th>591</th>\n",
       "      <td>592</td>\n",
       "      <td>toaster</td>\n",
       "      <td>1</td>\n",
       "      <td>0</td>\n",
       "      <td>livingroom</td>\n",
       "      <td>off</td>\n",
       "      <td>day</td>\n",
       "      <td>Power down the toaster in the living room in a...</td>\n",
       "    </tr>\n",
       "    <tr>\n",
       "      <th>559</th>\n",
       "      <td>560</td>\n",
       "      <td>shutters</td>\n",
       "      <td>1</td>\n",
       "      <td>0</td>\n",
       "      <td>kitchen</td>\n",
       "      <td>down</td>\n",
       "      <td>now</td>\n",
       "      <td>It is too bright in the kitchen.</td>\n",
       "    </tr>\n",
       "    <tr>\n",
       "      <th>229</th>\n",
       "      <td>230</td>\n",
       "      <td>direction</td>\n",
       "      <td>1</td>\n",
       "      <td>1</td>\n",
       "      <td>place</td>\n",
       "      <td>none</td>\n",
       "      <td>now</td>\n",
       "      <td>When do the busses depart in Leuven?</td>\n",
       "    </tr>\n",
       "    <tr>\n",
       "      <th>514</th>\n",
       "      <td>515</td>\n",
       "      <td>heating</td>\n",
       "      <td>1</td>\n",
       "      <td>0</td>\n",
       "      <td>bathroom</td>\n",
       "      <td>off</td>\n",
       "      <td>now</td>\n",
       "      <td>It is hot in the bathroom.</td>\n",
       "    </tr>\n",
       "    <tr>\n",
       "      <th>56</th>\n",
       "      <td>57</td>\n",
       "      <td>lights</td>\n",
       "      <td>1</td>\n",
       "      <td>0</td>\n",
       "      <td>kitchen</td>\n",
       "      <td>off</td>\n",
       "      <td>now</td>\n",
       "      <td>Turn off the light in the kitchen.</td>\n",
       "    </tr>\n",
       "    <tr>\n",
       "      <th>98</th>\n",
       "      <td>99</td>\n",
       "      <td>lights</td>\n",
       "      <td>1</td>\n",
       "      <td>1</td>\n",
       "      <td>diningroom</td>\n",
       "      <td>off</td>\n",
       "      <td>hour</td>\n",
       "      <td>Can you make it less bright in the dining room...</td>\n",
       "    </tr>\n",
       "    <tr>\n",
       "      <th>387</th>\n",
       "      <td>388</td>\n",
       "      <td>other</td>\n",
       "      <td>0</td>\n",
       "      <td>0</td>\n",
       "      <td>none</td>\n",
       "      <td>none</td>\n",
       "      <td>none</td>\n",
       "      <td>Ok.</td>\n",
       "    </tr>\n",
       "    <tr>\n",
       "      <th>654</th>\n",
       "      <td>655</td>\n",
       "      <td>time</td>\n",
       "      <td>1</td>\n",
       "      <td>1</td>\n",
       "      <td>none</td>\n",
       "      <td>none</td>\n",
       "      <td>now</td>\n",
       "      <td>Do you know what time it is?</td>\n",
       "    </tr>\n",
       "    <tr>\n",
       "      <th>254</th>\n",
       "      <td>255</td>\n",
       "      <td>information</td>\n",
       "      <td>1</td>\n",
       "      <td>1</td>\n",
       "      <td>kitchen</td>\n",
       "      <td>none</td>\n",
       "      <td>tomorrow</td>\n",
       "      <td>Tomorrow give me info from the kitchen.</td>\n",
       "    </tr>\n",
       "    <tr>\n",
       "      <th>101</th>\n",
       "      <td>102</td>\n",
       "      <td>lights</td>\n",
       "      <td>1</td>\n",
       "      <td>1</td>\n",
       "      <td>kitchen</td>\n",
       "      <td>off</td>\n",
       "      <td>day</td>\n",
       "      <td>Can you make it less bright in the kitchen in ...</td>\n",
       "    </tr>\n",
       "    <tr>\n",
       "      <th>616</th>\n",
       "      <td>617</td>\n",
       "      <td>garagedoor</td>\n",
       "      <td>0</td>\n",
       "      <td>0</td>\n",
       "      <td>garage</td>\n",
       "      <td>down</td>\n",
       "      <td>minute</td>\n",
       "      <td>Don't shut down the garage door in eighteen mi...</td>\n",
       "    </tr>\n",
       "    <tr>\n",
       "      <th>145</th>\n",
       "      <td>146</td>\n",
       "      <td>camera</td>\n",
       "      <td>1</td>\n",
       "      <td>1</td>\n",
       "      <td>backyard</td>\n",
       "      <td>none</td>\n",
       "      <td>today</td>\n",
       "      <td>Was there unusual activity on the camera in th...</td>\n",
       "    </tr>\n",
       "    <tr>\n",
       "      <th>587</th>\n",
       "      <td>588</td>\n",
       "      <td>toaster</td>\n",
       "      <td>1</td>\n",
       "      <td>0</td>\n",
       "      <td>kitchen</td>\n",
       "      <td>off</td>\n",
       "      <td>now</td>\n",
       "      <td>Power down the toaster.</td>\n",
       "    </tr>\n",
       "    <tr>\n",
       "      <th>182</th>\n",
       "      <td>183</td>\n",
       "      <td>direction</td>\n",
       "      <td>1</td>\n",
       "      <td>1</td>\n",
       "      <td>home</td>\n",
       "      <td>none</td>\n",
       "      <td>hour</td>\n",
       "      <td>How far am I from home in an hour?</td>\n",
       "    </tr>\n",
       "    <tr>\n",
       "      <th>538</th>\n",
       "      <td>539</td>\n",
       "      <td>shutters</td>\n",
       "      <td>1</td>\n",
       "      <td>0</td>\n",
       "      <td>basement</td>\n",
       "      <td>down</td>\n",
       "      <td>now</td>\n",
       "      <td>Lower the shutters in the basement.</td>\n",
       "    </tr>\n",
       "    <tr>\n",
       "      <th>52</th>\n",
       "      <td>53</td>\n",
       "      <td>lights</td>\n",
       "      <td>1</td>\n",
       "      <td>0</td>\n",
       "      <td>none</td>\n",
       "      <td>on</td>\n",
       "      <td>now</td>\n",
       "      <td>Turn on the oven.</td>\n",
       "    </tr>\n",
       "    <tr>\n",
       "      <th>111</th>\n",
       "      <td>112</td>\n",
       "      <td>camera</td>\n",
       "      <td>1</td>\n",
       "      <td>1</td>\n",
       "      <td>toilet</td>\n",
       "      <td>on</td>\n",
       "      <td>yesterday</td>\n",
       "      <td>Was the camera in the toilet on yesterday?</td>\n",
       "    </tr>\n",
       "  </tbody>\n",
       "</table>\n",
       "</div>"
      ],
      "text/plain": [
       "     Number     Category  Action_needed  Question Subcategory Action  \\\n",
       "428     429      weather              1         1     myplace   none   \n",
       "527     528      heating              1         1  livingroom     on   \n",
       "546     547     shutters              1         0      cellar     up   \n",
       "187     188    direction              1         1        home   none   \n",
       "283     284  information              1         0      toilet   none   \n",
       "193     194    direction              1         1     myplace   none   \n",
       "244     245  information              1         1        none   none   \n",
       "210     211    direction              1         1     myplace   none   \n",
       "591     592      toaster              1         0  livingroom    off   \n",
       "559     560     shutters              1         0     kitchen   down   \n",
       "229     230    direction              1         1       place   none   \n",
       "514     515      heating              1         0    bathroom    off   \n",
       "56       57       lights              1         0     kitchen    off   \n",
       "98       99       lights              1         1  diningroom    off   \n",
       "387     388        other              0         0        none   none   \n",
       "654     655         time              1         1        none   none   \n",
       "254     255  information              1         1     kitchen   none   \n",
       "101     102       lights              1         1     kitchen    off   \n",
       "616     617   garagedoor              0         0      garage   down   \n",
       "145     146       camera              1         1    backyard   none   \n",
       "587     588      toaster              1         0     kitchen    off   \n",
       "182     183    direction              1         1        home   none   \n",
       "538     539     shutters              1         0    basement   down   \n",
       "52       53       lights              1         0        none     on   \n",
       "111     112       camera              1         1      toilet     on   \n",
       "\n",
       "          Time                                           Sentence  \n",
       "428     minute  Am I going to get wet if I go outside in a few...  \n",
       "527     minute  Can you turn on the heating in the living room...  \n",
       "546        now                  Raise the shutters in the cellar.  \n",
       "187        now                    How long before I will be home?  \n",
       "283     minute          I want info from the toilet in 8 minutes.  \n",
       "193        now                     Where is the nearest bus stop?  \n",
       "244        now               What is the temperature in the room?  \n",
       "210        now             Should I use the public transport now?  \n",
       "591        day  Power down the toaster in the living room in a...  \n",
       "559        now                   It is too bright in the kitchen.  \n",
       "229        now               When do the busses depart in Leuven?  \n",
       "514        now                         It is hot in the bathroom.  \n",
       "56         now                 Turn off the light in the kitchen.  \n",
       "98        hour  Can you make it less bright in the dining room...  \n",
       "387       none                                                Ok.  \n",
       "654        now                       Do you know what time it is?  \n",
       "254   tomorrow            Tomorrow give me info from the kitchen.  \n",
       "101        day  Can you make it less bright in the kitchen in ...  \n",
       "616     minute  Don't shut down the garage door in eighteen mi...  \n",
       "145      today  Was there unusual activity on the camera in th...  \n",
       "587        now                            Power down the toaster.  \n",
       "182       hour                 How far am I from home in an hour?  \n",
       "538        now                Lower the shutters in the basement.  \n",
       "52         now                                  Turn on the oven.  \n",
       "111  yesterday         Was the camera in the toilet on yesterday?  "
      ]
     },
     "execution_count": 3,
     "metadata": {},
     "output_type": "execute_result"
    }
   ],
   "source": [
    "df.sample(frac=1).head(25)"
   ]
  },
  {
   "cell_type": "markdown",
   "id": "87157af5",
   "metadata": {},
   "source": [
    "## Removing Number column"
   ]
  },
  {
   "cell_type": "code",
   "execution_count": 4,
   "id": "e3e53d1e",
   "metadata": {},
   "outputs": [],
   "source": [
    "del df['Number']"
   ]
  },
  {
   "cell_type": "code",
   "execution_count": 5,
   "id": "15ad6b53",
   "metadata": {},
   "outputs": [
    {
     "data": {
      "text/html": [
       "<div>\n",
       "<style scoped>\n",
       "    .dataframe tbody tr th:only-of-type {\n",
       "        vertical-align: middle;\n",
       "    }\n",
       "\n",
       "    .dataframe tbody tr th {\n",
       "        vertical-align: top;\n",
       "    }\n",
       "\n",
       "    .dataframe thead th {\n",
       "        text-align: right;\n",
       "    }\n",
       "</style>\n",
       "<table border=\"1\" class=\"dataframe\">\n",
       "  <thead>\n",
       "    <tr style=\"text-align: right;\">\n",
       "      <th></th>\n",
       "      <th>Category</th>\n",
       "      <th>Action_needed</th>\n",
       "      <th>Question</th>\n",
       "      <th>Subcategory</th>\n",
       "      <th>Action</th>\n",
       "      <th>Time</th>\n",
       "      <th>Sentence</th>\n",
       "    </tr>\n",
       "  </thead>\n",
       "  <tbody>\n",
       "    <tr>\n",
       "      <th>0</th>\n",
       "      <td>lights</td>\n",
       "      <td>1</td>\n",
       "      <td>0</td>\n",
       "      <td>kitchen</td>\n",
       "      <td>on</td>\n",
       "      <td>today</td>\n",
       "      <td>Illuminate the kitchen today.</td>\n",
       "    </tr>\n",
       "    <tr>\n",
       "      <th>1</th>\n",
       "      <td>lights</td>\n",
       "      <td>1</td>\n",
       "      <td>0</td>\n",
       "      <td>kitchen</td>\n",
       "      <td>on</td>\n",
       "      <td>tomorrow</td>\n",
       "      <td>Illuminate the kitchen tomorrow.</td>\n",
       "    </tr>\n",
       "    <tr>\n",
       "      <th>2</th>\n",
       "      <td>lights</td>\n",
       "      <td>1</td>\n",
       "      <td>0</td>\n",
       "      <td>kitchen</td>\n",
       "      <td>on</td>\n",
       "      <td>hour</td>\n",
       "      <td>Turn on the light in the kitchen in 10 hours.</td>\n",
       "    </tr>\n",
       "    <tr>\n",
       "      <th>3</th>\n",
       "      <td>lights</td>\n",
       "      <td>1</td>\n",
       "      <td>0</td>\n",
       "      <td>kitchen</td>\n",
       "      <td>on</td>\n",
       "      <td>day</td>\n",
       "      <td>Turn on the light in the kitchen in 1 day.</td>\n",
       "    </tr>\n",
       "    <tr>\n",
       "      <th>4</th>\n",
       "      <td>lights</td>\n",
       "      <td>1</td>\n",
       "      <td>0</td>\n",
       "      <td>diningroom</td>\n",
       "      <td>on</td>\n",
       "      <td>today</td>\n",
       "      <td>Illuminate the dining room today.</td>\n",
       "    </tr>\n",
       "  </tbody>\n",
       "</table>\n",
       "</div>"
      ],
      "text/plain": [
       "  Category  Action_needed  Question Subcategory Action      Time  \\\n",
       "0   lights              1         0     kitchen     on     today   \n",
       "1   lights              1         0     kitchen     on  tomorrow   \n",
       "2   lights              1         0     kitchen     on      hour   \n",
       "3   lights              1         0     kitchen     on       day   \n",
       "4   lights              1         0  diningroom     on     today   \n",
       "\n",
       "                                        Sentence  \n",
       "0                  Illuminate the kitchen today.  \n",
       "1               Illuminate the kitchen tomorrow.  \n",
       "2  Turn on the light in the kitchen in 10 hours.  \n",
       "3     Turn on the light in the kitchen in 1 day.  \n",
       "4              Illuminate the dining room today.  "
      ]
     },
     "execution_count": 5,
     "metadata": {},
     "output_type": "execute_result"
    }
   ],
   "source": [
    "df.head()"
   ]
  },
  {
   "cell_type": "code",
   "execution_count": 6,
   "id": "401be0a1",
   "metadata": {},
   "outputs": [
    {
     "name": "stdout",
     "output_type": "stream",
     "text": [
      "<class 'pandas.core.frame.DataFrame'>\n",
      "RangeIndex: 663 entries, 0 to 662\n",
      "Data columns (total 7 columns):\n",
      " #   Column         Non-Null Count  Dtype \n",
      "---  ------         --------------  ----- \n",
      " 0   Category       663 non-null    object\n",
      " 1   Action_needed  663 non-null    int64 \n",
      " 2   Question       663 non-null    int64 \n",
      " 3   Subcategory    663 non-null    object\n",
      " 4   Action         663 non-null    object\n",
      " 5   Time           663 non-null    object\n",
      " 6   Sentence       663 non-null    object\n",
      "dtypes: int64(2), object(5)\n",
      "memory usage: 36.4+ KB\n"
     ]
    }
   ],
   "source": [
    "df.info()"
   ]
  },
  {
   "cell_type": "code",
   "execution_count": 7,
   "id": "109c9f5d",
   "metadata": {},
   "outputs": [
    {
     "data": {
      "text/plain": [
       "(663, 7)"
      ]
     },
     "execution_count": 7,
     "metadata": {},
     "output_type": "execute_result"
    }
   ],
   "source": [
    "df.shape"
   ]
  },
  {
   "cell_type": "code",
   "execution_count": 8,
   "id": "1a7959ff",
   "metadata": {},
   "outputs": [
    {
     "data": {
      "text/plain": [
       "Index(['Category', 'Action_needed', 'Question', 'Subcategory', 'Action',\n",
       "       'Time', 'Sentence'],\n",
       "      dtype='object')"
      ]
     },
     "execution_count": 8,
     "metadata": {},
     "output_type": "execute_result"
    }
   ],
   "source": [
    "df.columns"
   ]
  },
  {
   "cell_type": "code",
   "execution_count": 9,
   "id": "45058ec3",
   "metadata": {},
   "outputs": [
    {
     "data": {
      "text/plain": [
       "<AxesSubplot:xlabel='Category', ylabel='count'>"
      ]
     },
     "execution_count": 9,
     "metadata": {},
     "output_type": "execute_result"
    },
    {
     "data": {
      "image/png": "[encoded data removed]",
      "text/plain": [
       "<Figure size 1800x1000 with 1 Axes>"
      ]
     },
     "metadata": {},
     "output_type": "display_data"
    }
   ],
   "source": [
    "plt.figure(figsize=(18,10))\n",
    "sns.countplot(x=\"Category\", palette=\"rocket\", data=df)"
   ]
  },
  {
   "cell_type": "markdown",
   "id": "17219f95",
   "metadata": {},
   "source": [
    "## Check for any null values in the dataset"
   ]
  },
  {
   "cell_type": "code",
   "execution_count": 10,
   "id": "10b2d949",
   "metadata": {},
   "outputs": [
    {
     "data": {
      "text/plain": [
       "Category         0\n",
       "Action_needed    0\n",
       "Question         0\n",
       "Subcategory      0\n",
       "Action           0\n",
       "Time             0\n",
       "Sentence         0\n",
       "dtype: int64"
      ]
     },
     "execution_count": 10,
     "metadata": {},
     "output_type": "execute_result"
    }
   ],
   "source": [
    "df.isna().sum()"
   ]
  },
  {
   "cell_type": "code",
   "execution_count": 11,
   "id": "b8cc2525",
   "metadata": {},
   "outputs": [
    {
     "data": {
      "text/plain": [
       "<AxesSubplot:xlabel='Subcategory', ylabel='count'>"
      ]
     },
     "execution_count": 11,
     "metadata": {},
     "output_type": "execute_result"
    },
    {
     "data": {
      "image/png": "[encoded data removed]",
      "text/plain": [
       "<Figure size 1800x1000 with 1 Axes>"
      ]
     },
     "metadata": {},
     "output_type": "display_data"
    }
   ],
   "source": [
    "plt.figure(figsize=(18,10))\n",
    "sns.countplot(x=\"Subcategory\", palette=\"rocket\", data=df)"
   ]
  },
  {
   "cell_type": "code",
   "execution_count": 12,
   "id": "caa00176",
   "metadata": {},
   "outputs": [
    {
     "data": {
      "text/plain": [
       "array(['lights', 'camera', 'openapp', 'direction', 'information', 'other',\n",
       "       'weather', 'heating', 'shutters', 'toaster', 'garagedoor',\n",
       "       'coffeemachine', 'time'], dtype=object)"
      ]
     },
     "execution_count": 12,
     "metadata": {},
     "output_type": "execute_result"
    }
   ],
   "source": [
    "df['Category'].unique()"
   ]
  },
  {
   "cell_type": "code",
   "execution_count": 13,
   "id": "88ecfb29",
   "metadata": {},
   "outputs": [
    {
     "data": {
      "text/plain": [
       "array(['kitchen', 'diningroom', 'bathroom', 'none', 'livingroom',\n",
       "       'basement', 'attic', 'all', 'library', 'cellar', 'random',\n",
       "       'toilet', 'outside', 'backyard', 'home', 'place', 'myplace',\n",
       "       'garage'], dtype=object)"
      ]
     },
     "execution_count": 13,
     "metadata": {},
     "output_type": "execute_result"
    }
   ],
   "source": [
    "df['Subcategory'].unique()"
   ]
  },
  {
   "cell_type": "code",
   "execution_count": 14,
   "id": "b383a4a1",
   "metadata": {},
   "outputs": [
    {
     "data": {
      "text/plain": [
       "array(['on', 'none', 'off', 'open', 'down', 'up'], dtype=object)"
      ]
     },
     "execution_count": 14,
     "metadata": {},
     "output_type": "execute_result"
    }
   ],
   "source": [
    "df['Action'].unique()"
   ]
  },
  {
   "cell_type": "code",
   "execution_count": 15,
   "id": "b0d90f5c",
   "metadata": {},
   "outputs": [
    {
     "data": {
      "text/plain": [
       "<AxesSubplot:xlabel='Question', ylabel='count'>"
      ]
     },
     "execution_count": 15,
     "metadata": {},
     "output_type": "execute_result"
    },
    {
     "data": {
      "image/png": "[encoded data removed]",
      "text/plain": [
       "<Figure size 1000x500 with 1 Axes>"
      ]
     },
     "metadata": {},
     "output_type": "display_data"
    }
   ],
   "source": [
    "plt.figure(figsize=(10,5))\n",
    "sns.countplot(x=\"Question\", palette=\"rocket\", data=df)"
   ]
  },
  {
   "cell_type": "code",
   "execution_count": 16,
   "id": "af2776a6",
   "metadata": {},
   "outputs": [
    {
     "data": {
      "text/plain": [
       "<AxesSubplot:xlabel='Action_needed', ylabel='count'>"
      ]
     },
     "execution_count": 16,
     "metadata": {},
     "output_type": "execute_result"
    },
    {
     "data": {
      "image/png": "[encoded data removed]",
      "text/plain": [
       "<Figure size 1000x500 with 1 Axes>"
      ]
     },
     "metadata": {},
     "output_type": "display_data"
    }
   ],
   "source": [
    "plt.figure(figsize=(10,5))\n",
    "sns.countplot(x=\"Action_needed\", palette=\"rocket\", data=df)"
   ]
  },
  {
   "cell_type": "code",
   "execution_count": 17,
   "id": "14500b29",
   "metadata": {},
   "outputs": [
    {
     "data": {
      "text/plain": [
       "<AxesSubplot:xlabel='Time', ylabel='count'>"
      ]
     },
     "execution_count": 17,
     "metadata": {},
     "output_type": "execute_result"
    },
    {
     "data": {
      "image/png": "[encoded data removed]",
      "text/plain": [
       "<Figure size 1500x1000 with 1 Axes>"
      ]
     },
     "metadata": {},
     "output_type": "display_data"
    }
   ],
   "source": [
    "plt.figure(figsize=(15,10))\n",
    "sns.countplot(x=\"Time\", palette=\"rocket\", data=df)"
   ]
  },
  {
   "cell_type": "code",
   "execution_count": 18,
   "id": "424e9d0d",
   "metadata": {},
   "outputs": [
    {
     "data": {
      "text/plain": [
       "<AxesSubplot:xlabel='Action', ylabel='count'>"
      ]
     },
     "execution_count": 18,
     "metadata": {},
     "output_type": "execute_result"
    },
    {
     "data": {
      "image/png": "[encoded data removed]",
      "text/plain": [
       "<Figure size 1500x1000 with 1 Axes>"
      ]
     },
     "metadata": {},
     "output_type": "display_data"
    }
   ],
   "source": [
    "plt.figure(figsize=(15,10))\n",
    "sns.countplot(x=\"Action\", palette=\"rocket\", data=df)"
   ]
  },
  {
   "cell_type": "markdown",
   "id": "5fe31545",
   "metadata": {},
   "source": [
    "## Importing NLP Libraries for text-preprocessing"
   ]
  },
  {
   "cell_type": "code",
   "execution_count": 19,
   "id": "7cd6ac55",
   "metadata": {},
   "outputs": [],
   "source": [
    "from nltk import word_tokenize\n",
    "from sklearn.model_selection import train_test_split\n",
    "import itertools\n",
    "import math"
   ]
  },
  {
   "cell_type": "code",
   "execution_count": 20,
   "id": "1c65f9cc",
   "metadata": {},
   "outputs": [],
   "source": [
    "sentences = df['Sentence']\n",
    "categories = df['Category']\n",
    "subcategories = df['Subcategory']\n",
    "actions = df['Action']"
   ]
  },
  {
   "cell_type": "code",
   "execution_count": 21,
   "id": "2199724d",
   "metadata": {},
   "outputs": [],
   "source": [
    "uniquecategories = list(set(categories))\n",
    "uniquesubcategories = list(set(subcategories))\n",
    "uniqueactions = list(set(actions))"
   ]
  },
  {
   "cell_type": "markdown",
   "id": "82db8dfb",
   "metadata": {},
   "source": [
    "## Tokenization"
   ]
  },
  {
   "cell_type": "code",
   "execution_count": 22,
   "id": "bad58e2f",
   "metadata": {},
   "outputs": [],
   "source": [
    "mergesentences = list(itertools.chain.from_iterable([word_tokenize(sentence.lower()) for sentence in sentences]))\n",
    "vocabulary = list(set(mergesentences))"
   ]
  },
  {
   "cell_type": "code",
   "execution_count": 23,
   "id": "db880d89",
   "metadata": {},
   "outputs": [
    {
     "name": "stdout",
     "output_type": "stream",
     "text": [
      "['and', 'should', 'room', 'from', 'past', 'more', 'rooms', 'human', 'happy', 'islands', 'transport', 'toilet', 'pixels', 'have', 'adam', 'use', 'relay', 'falls', 'does', 'language', 'trump', 'toaster', 'coffeemachine', 'this', 'strange', 'the', 'camera', 'anything', 'a', 'sensors', 'life', 'tell', 'other', 'sixteen', 'temperature', '2', 'republican', 'tall', 'time', 'outside', 'busses', 'warm', 'drowning', 'exist', 'antwerp', 'operation', 'has', 'raise', 'storming', 'malidives', 'backyard', 'malfunctions', 'machine', 'antwerpen', \"n't\", 'weeks', 'bored', 'nothing', 'can', 'hard', 'so', 'doing', 'brussels', 'please', 'written', 'below', 'or', 'rises', 'something', 'trains', 'if', 'shown', 'random', 'myplace', 'let', '4', 'ten', 'week', 'ready', 'strangers', 'premier', 'toast', 'know', 'enlighten', 'water', 'tot', 'go', 'stupid', '112', 'justin', 'installed', 'drug', 'day', 'mallorca', 'shut', 'democrat', 'all', 'few', '10', 'favor', 'far', 'mouth', 'do', 'climbs', 'oceans', 'maps', 'own', 'any', 'movies', 'centigrade', 'cofeemachine', 'up', 'i', 'cameras', 'possible', 'how', 'you', 'shooting', 'nearest', 'alive', 'days', 'appear', 'at', 'readings', 'find', 'me', 'update', 'app', 'done', 'show', 'there', 'amount', 'first', 'currently', 'be', 'ok', 'things', 'two', 'delays', 'play', 'fog', 'feel', \"'re\", 'without', 'that', 'keep', 'facing', 'light', 'shine', 'dining', 'leuven', 'some', 'cats', 'information', 'leave', '43', 'rain', 'bus', 'way', 'library', 'think', 'capital', 'minutes', 'house', 'special', 'today', 'above', 'brighter', 'shutters', 'flicker', 'shining', 'north', 'movement', 'greece', 'get', 'great', 'would', 'potatoes', 'which', 'october', 'will', 'lighten', 'out', '0', '15', 'power', 'move', 'kitchen', 'been', 'recording', 'made', 'dinin', 'sensor', 'music', \"'s\", '3', 'sandler', 'tomorrow', 'wet', 'going', '8', '1', 'it', 'here', 'balen', 'car', 'were', 'deepest', 'door', 'gets', 'league', 'control', 'say', 'dogs', 'cloudy', 'minute', 'mountain', 'public', 'outdoor', '85', 'device', 'lately', 'hailing', 'window', 'google', 'with', '6', '5', 'hour', 'coming', 'appliance', 'electricity', 'is', 'meaning', 'not', 'live', 'now', 'spain', 'getting', 'little', 'unusual', 'fourteen', 'place', 'on', 'wake', 'fahrenheit', 'off', '50', 'religions', 'open', 'sad', 'clouds', 'refrigerator', 'alone', 'was', 'train', 'viewing', 'lot', 'clock', 'info', 'anymore', 'system', '21', 'where', 'weed', 'crete', 'ride', 'hours', 'attic', 'next', 'averaged', '45', 'want', 'too', 'freeze', 'lights', 'before', 'am', 'certain', 'skies', 'did', 'what', 'dinosaurs', 'feelings', 'make', 'to', 'humans', 'considered', 'belgium', 'down', 'turn', 'less', 'responds', 'diningroom', 'an', 'bieber', 'sun', 'hail', 'over', 'species', 'of', 'mad', 'donald', 'animals', 'give', 'long', 'directions', 'living', 'yesterday', 'celsius', '7', 'reading', 'put', '20', 'later', 'ca', 'eighteen', 'activity', 'location', 'in', 'one', 'flow', 'departure', 'hit', 'humidity', 'station', 'blinding', 'mean', '!', 'when', 'freezes', 'dark', 'could', 'september', 'players', 'continent', 'bike', 'degrees', 'between', 'illuminate', 'why', 'hasselt', 'who', 'tallest', 'six', '?', 'stop', 'heating', 'travel', 'universe', 'depart', 'colder', 'garage', 'facebook', 'about', 'cellar', 'coffee', 'trench', 'basement', 'cold', 'gradually', 'internet', 'help', 'motion', 'tonight', 'like', 'cut', 'close', 'oven', 'te', \"'d\", 'higher', 'month', 'many', 'freezing', 'running', 'my', 'question', '.', 'hot', 'bright', 'bathroom', 'are', 'direction', 'we', 'foggy', 'closest', 'viewer', 'home', 'weather', '11', 'right', 'locationtracker', 'letting', 'your', 'already', 'for', 'see', 'lower', 'sure', 'sick', 'person', 'earth', 'animal']\n"
     ]
    }
   ],
   "source": [
    "print(vocabulary)"
   ]
  },
  {
   "cell_type": "code",
   "execution_count": 24,
   "id": "48707077",
   "metadata": {},
   "outputs": [],
   "source": [
    "# calculates how often the word appears in the sentence\n",
    "def term_frequency(word, sentence):\n",
    "    return sentence.split().count(word)"
   ]
  },
  {
   "cell_type": "code",
   "execution_count": 25,
   "id": "a600f71f",
   "metadata": {},
   "outputs": [],
   "source": [
    "# calculates how often the word appears in the entire vocabulary\n",
    "def document_frequency(word):\n",
    "    return vocabulary.count(word)"
   ]
  },
  {
   "cell_type": "code",
   "execution_count": 26,
   "id": "4d17a492",
   "metadata": {},
   "outputs": [],
   "source": [
    "# will make sure that unimportant words such as \"and\" that occur often will have lower weights\n",
    "# log taken to avoid exploding of IDF with words such as 'is' that can occur a lot\n",
    "def inverse_document_frequency(word):\n",
    "    return math.log(len(vocabulary) / (document_frequency(word) + 1))"
   ]
  },
  {
   "cell_type": "code",
   "execution_count": 27,
   "id": "250ff4ae",
   "metadata": {},
   "outputs": [],
   "source": [
    "# get term frequency inverse document frequency value\n",
    "def calculate_tfidf(word, sentence):\n",
    "    return term_frequency(word, sentence) * inverse_document_frequency(word)"
   ]
  },
  {
   "cell_type": "code",
   "execution_count": 28,
   "id": "dbe5529b",
   "metadata": {},
   "outputs": [],
   "source": [
    "# get one-hot encoded vectors for the targets\n",
    "def one_hot_class_vector(uniqueclasses, w):\n",
    "    emptyvector = [0 for i in range(len(uniqueclasses))]\n",
    "    emptyvector[uniqueclasses.index(w)] = 1\n",
    "    return emptyvector"
   ]
  },
  {
   "cell_type": "code",
   "execution_count": 29,
   "id": "498e3f2d",
   "metadata": {},
   "outputs": [],
   "source": [
    "# get one-hot encoded vectors for the words\n",
    "def one_hot_vector(w):\n",
    "    emptyvector = [0 for i in range(len(vocabulary))]\n",
    "    emptyvector[vocabulary.index(w)] = 1\n",
    "    return emptyvector"
   ]
  },
  {
   "cell_type": "code",
   "execution_count": 30,
   "id": "169e14aa",
   "metadata": {},
   "outputs": [],
   "source": [
    "# get one-hot encdoded sentence vector\n",
    "def sentence_vector(sentence, tfidf=False):\n",
    "    tokenizedlist = word_tokenize(sentence.lower())\n",
    "    sentencevector = [0 for i in range(len(vocabulary))]\n",
    "    count = 0\n",
    "\n",
    "    for word in tokenizedlist:\n",
    "        if word in vocabulary:\n",
    "            count = count + 1\n",
    "            if tfidf:\n",
    "                sentencevector = [x + y for x, y in zip(sentencevector, [e * calculate_tfidf(word, sentence) for e in one_hot_vector(word)])] \n",
    "            else:\n",
    "                sentencevector = [x + y for x, y in zip(sentencevector, one_hot_vector(word))]\n",
    "\n",
    "    if count == 0:\n",
    "        return sentencevector\n",
    "    else:\n",
    "        return [(el / count) for el in sentencevector]"
   ]
  },
  {
   "cell_type": "code",
   "execution_count": 31,
   "id": "df846048",
   "metadata": {},
   "outputs": [],
   "source": [
    "# wordvectors = [one_hot_vector(w) for w in vocabulary] # not needed\n",
    "categoryvectors = [cv.index(1) for cv in [one_hot_class_vector(uniquecategories, w) for w in categories]]\n",
    "subcategoryvectors = [cv.index(1) for cv in [one_hot_class_vector(uniquesubcategories, w) for w in subcategories]]\n",
    "actionvectors = [cv.index(1) for cv in [one_hot_class_vector(uniqueactions, w) for w in actions]]\n",
    "sentencevectors = [sentence_vector(sentence) for sentence in sentences]\n",
    "sentencevectorstfidf = [sentence_vector(sentence, True) for sentence in sentences]"
   ]
  },
  {
   "cell_type": "markdown",
   "id": "c63b67f7",
   "metadata": {},
   "source": [
    "## Splitting of Data into train and test set of different columns"
   ]
  },
  {
   "cell_type": "code",
   "execution_count": 32,
   "id": "6bbad194",
   "metadata": {},
   "outputs": [],
   "source": [
    "X_train_cat, X_test_cat, y_train_cat, y_test_cat = train_test_split(sentencevectors, categoryvectors, test_size=0.25, random_state=42)\n",
    "X_train_cat_tfidf, X_test_cat_tfidf, y_train_cat_tfidf, y_test_cat_tfidf = train_test_split(sentencevectorstfidf, categoryvectors, test_size=0.25, random_state=42)\n",
    "X_train_subcat, X_test_subcat, y_train_subcat, y_test_subcat = train_test_split(sentencevectors, subcategoryvectors, test_size=0.25, random_state=42)\n",
    "X_train_action, X_test_action, y_train_action, y_test_action = train_test_split(sentencevectors, actionvectors, test_size=0.25, random_state=42)"
   ]
  },
  {
   "cell_type": "markdown",
   "id": "a8d62f7a",
   "metadata": {},
   "source": [
    "## Importing Different Classifier Models"
   ]
  },
  {
   "cell_type": "code",
   "execution_count": 33,
   "id": "4406edd5",
   "metadata": {},
   "outputs": [],
   "source": [
    "from sklearn.ensemble import RandomForestClassifier\n",
    "from sklearn.neural_network import MLPClassifier\n",
    "from catboost import CatBoostClassifier\n",
    "import lightgbm as lgbm\n",
    "from sklearn.model_selection import train_test_split\n",
    "from sklearn.svm import SVC\n",
    "import xgboost as xgb\n",
    "from tpot import TPOTClassifier\n",
    "from sklearn.metrics import accuracy_score\n",
    "from numpy import random\n",
    "random.seed(69)"
   ]
  },
  {
   "cell_type": "code",
   "execution_count": 34,
   "id": "b47e657c",
   "metadata": {},
   "outputs": [],
   "source": [
    "def train_fit(model_name, model, X, y, X_test, y_test):\n",
    "    model.fit(X, y)\n",
    "    y_preds = model.predict(X_test)\n",
    "    accuracy = accuracy_score(y_test, y_preds)\n",
    "    print(f\"{model_name}: {accuracy}\")\n",
    "    return model"
   ]
  },
  {
   "cell_type": "markdown",
   "id": "3fdc164c",
   "metadata": {},
   "source": [
    "## Random Forest"
   ]
  },
  {
   "cell_type": "code",
   "execution_count": 35,
   "id": "cd930dce",
   "metadata": {},
   "outputs": [
    {
     "name": "stdout",
     "output_type": "stream",
     "text": [
      "RandomForestClassifier: 0.891566265060241\n"
     ]
    }
   ],
   "source": [
    "random_forest_model = RandomForestClassifier()\n",
    "random_forest_model = train_fit(\"RandomForestClassifier\", random_forest_model, X_train_cat, y_train_cat, X_test_cat, y_test_cat)"
   ]
  },
  {
   "cell_type": "markdown",
   "id": "0d30c354",
   "metadata": {},
   "source": [
    "## SVC"
   ]
  },
  {
   "cell_type": "code",
   "execution_count": 36,
   "id": "4b11ea52",
   "metadata": {},
   "outputs": [
    {
     "name": "stdout",
     "output_type": "stream",
     "text": [
      "SVC (linear): 0.536144578313253\n",
      "SVC (rbf): 0.8674698795180723\n"
     ]
    }
   ],
   "source": [
    "svc_model_linear = SVC(kernel='linear', decision_function_shape='ovo')\n",
    "svc_model_linear = train_fit(\"SVC (linear)\", svc_model_linear, X_train_cat, y_train_cat, X_test_cat, y_test_cat)\n",
    "\n",
    "svc_model_rbf = SVC(kernel='rbf', decision_function_shape='ovo')\n",
    "svc_model_rbf = train_fit(\"SVC (rbf)\", svc_model_rbf, X_train_cat, y_train_cat, X_test_cat, y_test_cat)"
   ]
  },
  {
   "cell_type": "markdown",
   "id": "e25d77c9",
   "metadata": {},
   "source": [
    "## XGB"
   ]
  },
  {
   "cell_type": "code",
   "execution_count": 37,
   "id": "15913fb0",
   "metadata": {},
   "outputs": [
    {
     "name": "stdout",
     "output_type": "stream",
     "text": [
      "XGBClassifier: 0.8674698795180723\n"
     ]
    }
   ],
   "source": [
    "xgb_model = xgb.XGBClassifier()\n",
    "xgb_model = train_fit(\"XGBClassifier\", xgb_model, np.array(X_train_cat), np.array(y_train_cat), X_test_cat, y_test_cat)"
   ]
  },
  {
   "cell_type": "markdown",
   "id": "a20a7094",
   "metadata": {},
   "source": [
    "## CatBoost"
   ]
  },
  {
   "cell_type": "code",
   "execution_count": 38,
   "id": "8fc6edcd",
   "metadata": {},
   "outputs": [
    {
     "name": "stdout",
     "output_type": "stream",
     "text": [
      "CatBoostClassifier: 0.927710843373494\n"
     ]
    }
   ],
   "source": [
    "catboost_model = CatBoostClassifier(verbose=False)\n",
    "catboost_model = train_fit(\"CatBoostClassifier\", catboost_model, X_train_cat, y_train_cat, X_test_cat, y_test_cat)"
   ]
  },
  {
   "cell_type": "markdown",
   "id": "30dd914c",
   "metadata": {},
   "source": [
    "## MLP"
   ]
  },
  {
   "cell_type": "code",
   "execution_count": 39,
   "id": "e38c24c4",
   "metadata": {},
   "outputs": [
    {
     "name": "stdout",
     "output_type": "stream",
     "text": [
      "MLPClassifier: 0.8855421686746988\n"
     ]
    },
    {
     "name": "stderr",
     "output_type": "stream",
     "text": [
      "C:\\ProgramData\\Anaconda3\\lib\\site-packages\\sklearn\\neural_network\\_multilayer_perceptron.py:692: ConvergenceWarning: Stochastic Optimizer: Maximum iterations (200) reached and the optimization hasn't converged yet.\n",
      "  warnings.warn(\n"
     ]
    }
   ],
   "source": [
    "mlp_model = MLPClassifier()\n",
    "mlp_model = train_fit(\"MLPClassifier\", mlp_model, X_train_cat, y_train_cat, X_test_cat, y_test_cat)"
   ]
  },
  {
   "cell_type": "markdown",
   "id": "9a743626",
   "metadata": {},
   "source": [
    "## LGBM"
   ]
  },
  {
   "cell_type": "code",
   "execution_count": 40,
   "id": "7a3ccc0b",
   "metadata": {},
   "outputs": [
    {
     "name": "stdout",
     "output_type": "stream",
     "text": [
      "LGBMClassifier: 0.7168674698795181\n"
     ]
    }
   ],
   "source": [
    "lgbm_model = lgbm.LGBMClassifier()\n",
    "lgbm_model = train_fit(\"LGBMClassifier\", lgbm_model, X_train_cat, y_train_cat, X_test_cat, y_test_cat)"
   ]
  },
  {
   "cell_type": "markdown",
   "id": "bcd0d2dc",
   "metadata": {},
   "source": [
    "## SVC linear cost"
   ]
  },
  {
   "cell_type": "code",
   "execution_count": 41,
   "id": "607f1182",
   "metadata": {},
   "outputs": [
    {
     "name": "stdout",
     "output_type": "stream",
     "text": [
      "SVC (linear) + cost: 0.9096385542168675\n"
     ]
    }
   ],
   "source": [
    "svc_linear_cost_model = SVC(kernel='linear', decision_function_shape='ovo', C=52)\n",
    "svc_linear_cost_model = train_fit(\"SVC (linear) + cost\", svc_linear_cost_model, X_train_cat, y_train_cat, X_test_cat, y_test_cat)"
   ]
  },
  {
   "cell_type": "markdown",
   "id": "1b4950c7",
   "metadata": {},
   "source": [
    "## TPOT"
   ]
  },
  {
   "cell_type": "code",
   "execution_count": 42,
   "id": "deeeeb27",
   "metadata": {},
   "outputs": [
    {
     "name": "stdout",
     "output_type": "stream",
     "text": [
      "32 operators have been imported by TPOT.\n"
     ]
    },
    {
     "data": {
      "application/vnd.jupyter.widget-view+json": {
       "model_id": "",
       "version_major": 2,
       "version_minor": 0
      },
      "text/plain": [
       "Optimization Progress:   0%|          | 0/30 [00:00<?, ?pipeline/s]"
      ]
     },
     "metadata": {},
     "output_type": "display_data"
    },
    {
     "name": "stdout",
     "output_type": "stream",
     "text": [
      "_pre_test decorator: _random_mutation_operator: num_test=0 Solver lbfgs supports only dual=False, got dual=True.\n",
      "\n",
      "Generation 1 - Current Pareto front scores:\n",
      "\n",
      "-1\t0.7948686868686868\tGradientBoostingClassifier(input_matrix, GradientBoostingClassifier__learning_rate=0.01, GradientBoostingClassifier__max_depth=7, GradientBoostingClassifier__max_features=1.0, GradientBoostingClassifier__min_samples_leaf=7, GradientBoostingClassifier__min_samples_split=15, GradientBoostingClassifier__n_estimators=100, GradientBoostingClassifier__subsample=1.0)\n",
      "\n",
      "-2\t0.8512323232323233\tKNeighborsClassifier(BernoulliNB(input_matrix, BernoulliNB__alpha=0.001, BernoulliNB__fit_prior=False), KNeighborsClassifier__n_neighbors=28, KNeighborsClassifier__p=2, KNeighborsClassifier__weights=distance)\n",
      "\n",
      "Generation 2 - Current Pareto front scores:\n",
      "\n",
      "-1\t0.7948686868686868\tGradientBoostingClassifier(input_matrix, GradientBoostingClassifier__learning_rate=0.01, GradientBoostingClassifier__max_depth=7, GradientBoostingClassifier__max_features=1.0, GradientBoostingClassifier__min_samples_leaf=7, GradientBoostingClassifier__min_samples_split=15, GradientBoostingClassifier__n_estimators=100, GradientBoostingClassifier__subsample=1.0)\n",
      "\n",
      "-2\t0.8572929292929293\tExtraTreesClassifier(BernoulliNB(input_matrix, BernoulliNB__alpha=0.001, BernoulliNB__fit_prior=False), ExtraTreesClassifier__bootstrap=True, ExtraTreesClassifier__criterion=entropy, ExtraTreesClassifier__max_features=0.45, ExtraTreesClassifier__min_samples_leaf=5, ExtraTreesClassifier__min_samples_split=11, ExtraTreesClassifier__n_estimators=100)\n",
      "_pre_test decorator: _random_mutation_operator: num_test=0 Solver lbfgs supports only 'l2' or 'none' penalties, got l1 penalty..\n",
      "\n",
      "Generation 3 - Current Pareto front scores:\n",
      "\n",
      "-1\t0.7948686868686868\tGradientBoostingClassifier(input_matrix, GradientBoostingClassifier__learning_rate=0.01, GradientBoostingClassifier__max_depth=7, GradientBoostingClassifier__max_features=1.0, GradientBoostingClassifier__min_samples_leaf=7, GradientBoostingClassifier__min_samples_split=15, GradientBoostingClassifier__n_estimators=100, GradientBoostingClassifier__subsample=1.0)\n",
      "\n",
      "-2\t0.8572929292929293\tExtraTreesClassifier(BernoulliNB(input_matrix, BernoulliNB__alpha=0.001, BernoulliNB__fit_prior=False), ExtraTreesClassifier__bootstrap=True, ExtraTreesClassifier__criterion=entropy, ExtraTreesClassifier__max_features=0.45, ExtraTreesClassifier__min_samples_leaf=5, ExtraTreesClassifier__min_samples_split=11, ExtraTreesClassifier__n_estimators=100)\n",
      "Pipeline encountered that has previously been evaluated during the optimization process. Using the score from the previous evaluation.\n",
      "\n",
      "Generation 4 - Current Pareto front scores:\n",
      "\n",
      "-1\t0.7948686868686868\tGradientBoostingClassifier(input_matrix, GradientBoostingClassifier__learning_rate=0.01, GradientBoostingClassifier__max_depth=7, GradientBoostingClassifier__max_features=1.0, GradientBoostingClassifier__min_samples_leaf=7, GradientBoostingClassifier__min_samples_split=15, GradientBoostingClassifier__n_estimators=100, GradientBoostingClassifier__subsample=1.0)\n",
      "\n",
      "-2\t0.8934343434343435\tGradientBoostingClassifier(MLPClassifier(input_matrix, MLPClassifier__alpha=0.001, MLPClassifier__learning_rate_init=0.01), GradientBoostingClassifier__learning_rate=0.01, GradientBoostingClassifier__max_depth=7, GradientBoostingClassifier__max_features=1.0, GradientBoostingClassifier__min_samples_leaf=7, GradientBoostingClassifier__min_samples_split=15, GradientBoostingClassifier__n_estimators=100, GradientBoostingClassifier__subsample=0.45)\n",
      "_pre_test decorator: _random_mutation_operator: num_test=0 Expected n_neighbors <= n_samples,  but n_samples = 50, n_neighbors = 83.\n",
      "\n",
      "Generation 5 - Current Pareto front scores:\n",
      "\n",
      "-1\t0.7948686868686868\tGradientBoostingClassifier(input_matrix, GradientBoostingClassifier__learning_rate=0.01, GradientBoostingClassifier__max_depth=7, GradientBoostingClassifier__max_features=1.0, GradientBoostingClassifier__min_samples_leaf=7, GradientBoostingClassifier__min_samples_split=15, GradientBoostingClassifier__n_estimators=100, GradientBoostingClassifier__subsample=1.0)\n",
      "\n",
      "-2\t0.8934343434343435\tGradientBoostingClassifier(MLPClassifier(input_matrix, MLPClassifier__alpha=0.001, MLPClassifier__learning_rate_init=0.01), GradientBoostingClassifier__learning_rate=0.01, GradientBoostingClassifier__max_depth=7, GradientBoostingClassifier__max_features=1.0, GradientBoostingClassifier__min_samples_leaf=7, GradientBoostingClassifier__min_samples_split=15, GradientBoostingClassifier__n_estimators=100, GradientBoostingClassifier__subsample=0.45)\n",
      "TPOTClassifier: 0.9216867469879518\n"
     ]
    }
   ],
   "source": [
    "tpot_model = TPOTClassifier(generations=5, population_size=5, cv=5, verbosity=3)\n",
    "tpot_model = train_fit(\"TPOTClassifier\", tpot_model, np.array(X_train_cat), np.array(y_train_cat), X_test_cat, y_test_cat)\n",
    "tpot_model.export(\"tpot_pipeline.py\")"
   ]
  },
  {
   "cell_type": "code",
   "execution_count": 43,
   "id": "6ff747ac",
   "metadata": {},
   "outputs": [
    {
     "name": "stdout",
     "output_type": "stream",
     "text": [
      "MLPClassifier: 0.8433734939759037\n"
     ]
    }
   ],
   "source": [
    "mlp_max_iter_model_tfidf = MLPClassifier(max_iter=10000)\n",
    "mlp_max_iter_model_tfidf = train_fit(\"MLPClassifier\", mlp_max_iter_model_tfidf, X_train_cat_tfidf, y_train_cat_tfidf, X_test_cat_tfidf, y_test_cat_tfidf)"
   ]
  },
  {
   "cell_type": "code",
   "execution_count": 44,
   "id": "1600b375",
   "metadata": {},
   "outputs": [
    {
     "name": "stdout",
     "output_type": "stream",
     "text": [
      "MLPClassifier: 0.9156626506024096\n",
      "MLPClassifier: 0.8554216867469879\n",
      "MLPClassifier: 0.8975903614457831\n"
     ]
    }
   ],
   "source": [
    "mlp_max_iter_model_cat = MLPClassifier(max_iter=10000)\n",
    "mlp_max_iter_model_cat = train_fit(\"MLPClassifier\", mlp_max_iter_model_cat, X_train_cat, y_train_cat, X_test_cat, y_test_cat)\n",
    "mlp_max_iter_model_subcat = MLPClassifier(max_iter=10000)\n",
    "mlp_max_iter_model_subcat = train_fit(\"MLPClassifier\", mlp_max_iter_model_subcat, X_train_subcat, y_train_subcat, X_test_subcat, y_test_subcat)\n",
    "mlp_max_iter_model_action = MLPClassifier(max_iter=10000)\n",
    "mlp_max_iter_model_action = train_fit(\"MLPClassifier\", mlp_max_iter_model_action, X_train_action, y_train_action, X_test_action, y_test_action)"
   ]
  },
  {
   "cell_type": "markdown",
   "id": "ee431ef3",
   "metadata": {},
   "source": [
    "## Prediction of input text-data"
   ]
  },
  {
   "cell_type": "code",
   "execution_count": 45,
   "id": "dc53f239",
   "metadata": {},
   "outputs": [],
   "source": [
    "def predict(model, classes, sentence):\n",
    "    y_preds = model.predict([sentence_vector(sentence)])\n",
    "    return classes[y_preds[0]]"
   ]
  },
  {
   "cell_type": "code",
   "execution_count": 46,
   "id": "711b7b10",
   "metadata": {},
   "outputs": [
    {
     "name": "stdout",
     "output_type": "stream",
     "text": [
      "lights\n",
      "none\n",
      "off\n"
     ]
    }
   ],
   "source": [
    "sentence = \"Hi Google, please turn off the lights.\"\n",
    "print(predict(mlp_max_iter_model_cat, uniquecategories, sentence))\n",
    "print(predict(mlp_max_iter_model_subcat, uniquesubcategories, sentence))\n",
    "print(predict(mlp_max_iter_model_action, uniqueactions, sentence))"
   ]
  },
  {
   "cell_type": "code",
   "execution_count": 47,
   "id": "3f2f466f",
   "metadata": {},
   "outputs": [
    {
     "name": "stdout",
     "output_type": "stream",
     "text": [
      "lights\n",
      "kitchen\n",
      "off\n"
     ]
    }
   ],
   "source": [
    "sentence = \"Turn the lights off in the kitchen.\"\n",
    "print(predict(mlp_max_iter_model_cat, uniquecategories, sentence))\n",
    "print(predict(mlp_max_iter_model_subcat, uniquesubcategories, sentence))\n",
    "print(predict(mlp_max_iter_model_action, uniqueactions, sentence))"
   ]
  },
  {
   "cell_type": "code",
   "execution_count": 54,
   "id": "12bd2537",
   "metadata": {},
   "outputs": [
    {
     "name": "stdout",
     "output_type": "stream",
     "text": [
      "Enter any command: Tell me when the water in the bathroom is hot enough\n",
      "information\n",
      "bathroom\n",
      "none\n"
     ]
    }
   ],
   "source": [
    "sentence = input(\"Enter any command: \")\n",
    "print(predict(mlp_max_iter_model_cat, uniquecategories, sentence))\n",
    "print(predict(mlp_max_iter_model_subcat, uniquesubcategories, sentence))\n",
    "print(predict(mlp_max_iter_model_action, uniqueactions, sentence))"
   ]
  },
  {
   "cell_type": "markdown",
   "id": "c432c576",
   "metadata": {},
   "source": [
    "## Future Work\n",
    "This model trained can be used with some sensors and iot devices to give the accurate numerical values of the actions. Like mini Alexa etc..."
   ]
  }
 ],
 "metadata": {
  "kernelspec": {
   "display_name": "Python 3 (ipykernel)",
   "language": "python",
   "name": "python3"
  },
  "language_info": {
   "codemirror_mode": {
    "name": "ipython",
    "version": 3
   },
   "file_extension": ".py",
   "mimetype": "text/x-python",
   "name": "python",
   "nbconvert_exporter": "python",
   "pygments_lexer": "ipython3",
   "version": "3.9.13"
  }
 },
 "nbformat": 4,
 "nbformat_minor": 5
}
